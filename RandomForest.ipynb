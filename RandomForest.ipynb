{
 "cells": [
  {
   "cell_type": "markdown",
   "metadata": {},
   "source": [
    "# Классификация методом RandomForest\n",
    "\n",
    "Этот пример призван проиллюстрировать возможности классификации методом RandomForest и оценки значимости критериев."
   ]
  },
  {
   "cell_type": "code",
   "execution_count": 1,
   "metadata": {},
   "outputs": [],
   "source": [
    "import pandas as pd\n",
    "import numpy as np\n",
    "from sklearn.ensemble import RandomForestClassifier\n",
    "from sklearn.model_selection import train_test_split\n",
    "from sklearn.metrics import r2_score\n",
    "import matplotlib.pyplot as plt\n",
    "import seaborn as sns"
   ]
  },
  {
   "cell_type": "code",
   "execution_count": 2,
   "metadata": {},
   "outputs": [
    {
     "data": {
      "text/html": [
       "<div>\n",
       "<style scoped>\n",
       "    .dataframe tbody tr th:only-of-type {\n",
       "        vertical-align: middle;\n",
       "    }\n",
       "\n",
       "    .dataframe tbody tr th {\n",
       "        vertical-align: top;\n",
       "    }\n",
       "\n",
       "    .dataframe thead th {\n",
       "        text-align: right;\n",
       "    }\n",
       "</style>\n",
       "<table border=\"1\" class=\"dataframe\">\n",
       "  <thead>\n",
       "    <tr style=\"text-align: right;\">\n",
       "      <th></th>\n",
       "      <th>id</th>\n",
       "      <th>Review</th>\n",
       "      <th>Star</th>\n",
       "      <th>Value</th>\n",
       "      <th>brandId</th>\n",
       "      <th>brandName</th>\n",
       "      <th>goodsName</th>\n",
       "      <th>isSoldOut</th>\n",
       "      <th>link</th>\n",
       "      <th>lowQuantity</th>\n",
       "      <th>...</th>\n",
       "      <th>Длина кабеля</th>\n",
       "      <th>Количество температурных режимов</th>\n",
       "      <th>Материал корпуса</th>\n",
       "      <th>Модель</th>\n",
       "      <th>Мощность устройства</th>\n",
       "      <th>Объем чайника</th>\n",
       "      <th>Страна бренда</th>\n",
       "      <th>Страна производитель</th>\n",
       "      <th>Цвет</th>\n",
       "      <th>sale_june</th>\n",
       "    </tr>\n",
       "  </thead>\n",
       "  <tbody>\n",
       "    <tr>\n",
       "      <td>601</td>\n",
       "      <td>11415249</td>\n",
       "      <td>17</td>\n",
       "      <td>4</td>\n",
       "      <td>1492</td>\n",
       "      <td>49886</td>\n",
       "      <td>BRAYER</td>\n",
       "      <td>Чайник электрический,  2200 Вт, 2 л</td>\n",
       "      <td>0</td>\n",
       "      <td>https://www.wildberries.ru/catalog/11415249/de...</td>\n",
       "      <td>0</td>\n",
       "      <td>...</td>\n",
       "      <td>100.0</td>\n",
       "      <td>1</td>\n",
       "      <td>стекло</td>\n",
       "      <td>BR1044</td>\n",
       "      <td>2200.0</td>\n",
       "      <td>2.0</td>\n",
       "      <td>Австрия</td>\n",
       "      <td>Китай</td>\n",
       "      <td>серый</td>\n",
       "      <td>100</td>\n",
       "    </tr>\n",
       "    <tr>\n",
       "      <td>609</td>\n",
       "      <td>11547977</td>\n",
       "      <td>3</td>\n",
       "      <td>3</td>\n",
       "      <td>1690</td>\n",
       "      <td>16102</td>\n",
       "      <td>Kitfort</td>\n",
       "      <td>Чайник КТ-676</td>\n",
       "      <td>0</td>\n",
       "      <td>https://www.wildberries.ru/catalog/11547977/de...</td>\n",
       "      <td>0</td>\n",
       "      <td>...</td>\n",
       "      <td>70.0</td>\n",
       "      <td>1</td>\n",
       "      <td>металл</td>\n",
       "      <td>КТ-676</td>\n",
       "      <td>2200.0</td>\n",
       "      <td>1.7</td>\n",
       "      <td>Россия</td>\n",
       "      <td>Китай</td>\n",
       "      <td>серебристый</td>\n",
       "      <td>0</td>\n",
       "    </tr>\n",
       "    <tr>\n",
       "      <td>628</td>\n",
       "      <td>11798037</td>\n",
       "      <td>2</td>\n",
       "      <td>3</td>\n",
       "      <td>3996</td>\n",
       "      <td>17158</td>\n",
       "      <td>Tefal</td>\n",
       "      <td>Чайник стеклянный Tefal Glass KI7208 2400 Вт 1...</td>\n",
       "      <td>0</td>\n",
       "      <td>https://www.wildberries.ru/catalog/11798037/de...</td>\n",
       "      <td>0</td>\n",
       "      <td>...</td>\n",
       "      <td>NaN</td>\n",
       "      <td>1</td>\n",
       "      <td>стекло</td>\n",
       "      <td>KI720830</td>\n",
       "      <td>2400.0</td>\n",
       "      <td>1.7</td>\n",
       "      <td>Франция</td>\n",
       "      <td>Китай</td>\n",
       "      <td>серебристый</td>\n",
       "      <td>10</td>\n",
       "    </tr>\n",
       "    <tr>\n",
       "      <td>617</td>\n",
       "      <td>11580933</td>\n",
       "      <td>4</td>\n",
       "      <td>3</td>\n",
       "      <td>3995</td>\n",
       "      <td>599</td>\n",
       "      <td>REDMOND</td>\n",
       "      <td>Электрический чайник RK-G1308D</td>\n",
       "      <td>0</td>\n",
       "      <td>https://www.wildberries.ru/catalog/11580933/de...</td>\n",
       "      <td>0</td>\n",
       "      <td>...</td>\n",
       "      <td>80.0</td>\n",
       "      <td>6</td>\n",
       "      <td>стекло</td>\n",
       "      <td>RK-G1308D</td>\n",
       "      <td>1500.0</td>\n",
       "      <td>1.7</td>\n",
       "      <td>Соединенные Штаты</td>\n",
       "      <td>Китай</td>\n",
       "      <td>черный</td>\n",
       "      <td>10</td>\n",
       "    </tr>\n",
       "    <tr>\n",
       "      <td>381</td>\n",
       "      <td>8754356</td>\n",
       "      <td>22</td>\n",
       "      <td>5</td>\n",
       "      <td>2185</td>\n",
       "      <td>29392</td>\n",
       "      <td>Hottek</td>\n",
       "      <td>Чайник HOTTEK HT-960-202</td>\n",
       "      <td>0</td>\n",
       "      <td>https://www.wildberries.ru/catalog/8754356/det...</td>\n",
       "      <td>0</td>\n",
       "      <td>...</td>\n",
       "      <td>75.0</td>\n",
       "      <td>1</td>\n",
       "      <td>нержавеющая сталь</td>\n",
       "      <td>9</td>\n",
       "      <td>2200.0</td>\n",
       "      <td>1.7</td>\n",
       "      <td>Китай</td>\n",
       "      <td>Китай</td>\n",
       "      <td>темно-серый</td>\n",
       "      <td>0</td>\n",
       "    </tr>\n",
       "  </tbody>\n",
       "</table>\n",
       "<p>5 rows × 24 columns</p>\n",
       "</div>"
      ],
      "text/plain": [
       "           id  Review  Star  Value  brandId brandName  \\\n",
       "601  11415249      17     4   1492    49886    BRAYER   \n",
       "609  11547977       3     3   1690    16102   Kitfort   \n",
       "628  11798037       2     3   3996    17158     Tefal   \n",
       "617  11580933       4     3   3995      599   REDMOND   \n",
       "381   8754356      22     5   2185    29392    Hottek   \n",
       "\n",
       "                                             goodsName  isSoldOut  \\\n",
       "601                Чайник электрический,  2200 Вт, 2 л          0   \n",
       "609                                      Чайник КТ-676          0   \n",
       "628  Чайник стеклянный Tefal Glass KI7208 2400 Вт 1...          0   \n",
       "617                     Электрический чайник RK-G1308D          0   \n",
       "381                           Чайник HOTTEK HT-960-202          0   \n",
       "\n",
       "                                                  link  lowQuantity  ...  \\\n",
       "601  https://www.wildberries.ru/catalog/11415249/de...            0  ...   \n",
       "609  https://www.wildberries.ru/catalog/11547977/de...            0  ...   \n",
       "628  https://www.wildberries.ru/catalog/11798037/de...            0  ...   \n",
       "617  https://www.wildberries.ru/catalog/11580933/de...            0  ...   \n",
       "381  https://www.wildberries.ru/catalog/8754356/det...            0  ...   \n",
       "\n",
       "     Длина кабеля  Количество температурных режимов   Материал корпуса  \\\n",
       "601         100.0                                 1             стекло   \n",
       "609          70.0                                 1             металл   \n",
       "628           NaN                                 1             стекло   \n",
       "617          80.0                                 6             стекло   \n",
       "381          75.0                                 1  нержавеющая сталь   \n",
       "\n",
       "        Модель  Мощность устройства Объем чайника      Страна бренда  \\\n",
       "601     BR1044               2200.0           2.0            Австрия   \n",
       "609     КТ-676               2200.0           1.7             Россия   \n",
       "628   KI720830               2400.0           1.7            Франция   \n",
       "617  RK-G1308D               1500.0           1.7  Соединенные Штаты   \n",
       "381          9               2200.0           1.7              Китай   \n",
       "\n",
       "    Страна производитель         Цвет  sale_june  \n",
       "601                Китай        серый        100  \n",
       "609                Китай  серебристый          0  \n",
       "628                Китай  серебристый         10  \n",
       "617                Китай       черный         10  \n",
       "381                Китай  темно-серый          0  \n",
       "\n",
       "[5 rows x 24 columns]"
      ]
     },
     "execution_count": 2,
     "metadata": {},
     "output_type": "execute_result"
    }
   ],
   "source": [
    "df=pd.read_excel('wb_teapot.xlsx', sheets='Sheet1') #!!!!!! измените имя файла и название рабочего листа\n",
    "df.sample(5) #эта команда выведет пять случайных строк таблицы, таблица не отобразиться полностью."
   ]
  },
  {
   "cell_type": "code",
   "execution_count": 3,
   "metadata": {},
   "outputs": [
    {
     "name": "stdout",
     "output_type": "stream",
     "text": [
      "<class 'pandas.core.frame.DataFrame'>\n",
      "RangeIndex: 642 entries, 0 to 641\n",
      "Data columns (total 24 columns):\n",
      "id                                  642 non-null int64\n",
      "Review                              642 non-null int64\n",
      "Star                                642 non-null int64\n",
      "Value                               642 non-null int64\n",
      "brandId                             642 non-null int64\n",
      "brandName                           642 non-null object\n",
      "goodsName                           642 non-null object\n",
      "isSoldOut                           642 non-null int64\n",
      "link                                642 non-null object\n",
      "lowQuantity                         642 non-null int64\n",
      "ordersCount                         642 non-null int64\n",
      "price                               642 non-null int64\n",
      "qualityRate                         642 non-null int64\n",
      "Вес с упаковкой (кг)                637 non-null float64\n",
      "Длина кабеля                        625 non-null float64\n",
      "Количество температурных режимов    614 non-null object\n",
      "Материал корпуса                    336 non-null object\n",
      "Модель                              637 non-null object\n",
      "Мощность устройства                 634 non-null float64\n",
      "Объем чайника                       641 non-null float64\n",
      "Страна бренда                       642 non-null object\n",
      "Страна производитель                642 non-null object\n",
      "Цвет                                642 non-null object\n",
      "sale_june                           642 non-null int64\n",
      "dtypes: float64(4), int64(11), object(9)\n",
      "memory usage: 120.5+ KB\n"
     ]
    }
   ],
   "source": [
    "df.info() #общая информация о столбцах, типах и пропущенных значениях"
   ]
  },
  {
   "cell_type": "code",
   "execution_count": 4,
   "metadata": {},
   "outputs": [
    {
     "data": {
      "text/html": [
       "<div>\n",
       "<style scoped>\n",
       "    .dataframe tbody tr th:only-of-type {\n",
       "        vertical-align: middle;\n",
       "    }\n",
       "\n",
       "    .dataframe tbody tr th {\n",
       "        vertical-align: top;\n",
       "    }\n",
       "\n",
       "    .dataframe thead th {\n",
       "        text-align: right;\n",
       "    }\n",
       "</style>\n",
       "<table border=\"1\" class=\"dataframe\">\n",
       "  <thead>\n",
       "    <tr style=\"text-align: right;\">\n",
       "      <th></th>\n",
       "      <th>id</th>\n",
       "      <th>Review</th>\n",
       "      <th>Star</th>\n",
       "      <th>Value</th>\n",
       "      <th>brandId</th>\n",
       "      <th>isSoldOut</th>\n",
       "      <th>lowQuantity</th>\n",
       "      <th>ordersCount</th>\n",
       "      <th>price</th>\n",
       "      <th>qualityRate</th>\n",
       "      <th>Вес с упаковкой (кг)</th>\n",
       "      <th>Длина кабеля</th>\n",
       "      <th>Мощность устройства</th>\n",
       "      <th>Объем чайника</th>\n",
       "      <th>sale_june</th>\n",
       "    </tr>\n",
       "  </thead>\n",
       "  <tbody>\n",
       "    <tr>\n",
       "      <td>count</td>\n",
       "      <td>6.420000e+02</td>\n",
       "      <td>642.000000</td>\n",
       "      <td>642.000000</td>\n",
       "      <td>642.000000</td>\n",
       "      <td>642.000000</td>\n",
       "      <td>642.000000</td>\n",
       "      <td>642.000000</td>\n",
       "      <td>642.000000</td>\n",
       "      <td>642.000000</td>\n",
       "      <td>642.000000</td>\n",
       "      <td>637.000000</td>\n",
       "      <td>625.000000</td>\n",
       "      <td>634.000000</td>\n",
       "      <td>641.000000</td>\n",
       "      <td>642.000000</td>\n",
       "    </tr>\n",
       "    <tr>\n",
       "      <td>mean</td>\n",
       "      <td>7.835927e+06</td>\n",
       "      <td>32.908100</td>\n",
       "      <td>3.819315</td>\n",
       "      <td>2210.987539</td>\n",
       "      <td>25560.778816</td>\n",
       "      <td>0.004673</td>\n",
       "      <td>0.073209</td>\n",
       "      <td>280.514019</td>\n",
       "      <td>2783.130841</td>\n",
       "      <td>97.364486</td>\n",
       "      <td>1.363077</td>\n",
       "      <td>72.977920</td>\n",
       "      <td>1994.779180</td>\n",
       "      <td>1.668019</td>\n",
       "      <td>14.725857</td>\n",
       "    </tr>\n",
       "    <tr>\n",
       "      <td>std</td>\n",
       "      <td>2.499043e+06</td>\n",
       "      <td>64.158267</td>\n",
       "      <td>0.960240</td>\n",
       "      <td>1451.388317</td>\n",
       "      <td>13756.815222</td>\n",
       "      <td>0.068252</td>\n",
       "      <td>0.260682</td>\n",
       "      <td>712.203553</td>\n",
       "      <td>1831.338995</td>\n",
       "      <td>8.153051</td>\n",
       "      <td>0.665768</td>\n",
       "      <td>77.105167</td>\n",
       "      <td>391.228811</td>\n",
       "      <td>0.339104</td>\n",
       "      <td>40.779031</td>\n",
       "    </tr>\n",
       "    <tr>\n",
       "      <td>min</td>\n",
       "      <td>2.171393e+06</td>\n",
       "      <td>0.000000</td>\n",
       "      <td>0.000000</td>\n",
       "      <td>0.000000</td>\n",
       "      <td>599.000000</td>\n",
       "      <td>0.000000</td>\n",
       "      <td>0.000000</td>\n",
       "      <td>20.000000</td>\n",
       "      <td>0.000000</td>\n",
       "      <td>0.000000</td>\n",
       "      <td>0.180000</td>\n",
       "      <td>0.600000</td>\n",
       "      <td>500.000000</td>\n",
       "      <td>0.500000</td>\n",
       "      <td>0.000000</td>\n",
       "    </tr>\n",
       "    <tr>\n",
       "      <td>25%</td>\n",
       "      <td>5.824747e+06</td>\n",
       "      <td>5.000000</td>\n",
       "      <td>3.000000</td>\n",
       "      <td>1205.250000</td>\n",
       "      <td>16102.000000</td>\n",
       "      <td>0.000000</td>\n",
       "      <td>0.000000</td>\n",
       "      <td>40.000000</td>\n",
       "      <td>1547.750000</td>\n",
       "      <td>97.000000</td>\n",
       "      <td>1.050000</td>\n",
       "      <td>63.000000</td>\n",
       "      <td>1800.000000</td>\n",
       "      <td>1.700000</td>\n",
       "      <td>0.000000</td>\n",
       "    </tr>\n",
       "    <tr>\n",
       "      <td>50%</td>\n",
       "      <td>8.123429e+06</td>\n",
       "      <td>11.000000</td>\n",
       "      <td>4.000000</td>\n",
       "      <td>1802.000000</td>\n",
       "      <td>20577.000000</td>\n",
       "      <td>0.000000</td>\n",
       "      <td>0.000000</td>\n",
       "      <td>90.000000</td>\n",
       "      <td>2254.500000</td>\n",
       "      <td>100.000000</td>\n",
       "      <td>1.300000</td>\n",
       "      <td>70.000000</td>\n",
       "      <td>2200.000000</td>\n",
       "      <td>1.700000</td>\n",
       "      <td>0.000000</td>\n",
       "    </tr>\n",
       "    <tr>\n",
       "      <td>75%</td>\n",
       "      <td>1.002333e+07</td>\n",
       "      <td>31.000000</td>\n",
       "      <td>4.000000</td>\n",
       "      <td>2788.750000</td>\n",
       "      <td>34103.000000</td>\n",
       "      <td>0.000000</td>\n",
       "      <td>0.000000</td>\n",
       "      <td>200.000000</td>\n",
       "      <td>3490.000000</td>\n",
       "      <td>100.000000</td>\n",
       "      <td>1.500000</td>\n",
       "      <td>75.000000</td>\n",
       "      <td>2200.000000</td>\n",
       "      <td>1.800000</td>\n",
       "      <td>10.000000</td>\n",
       "    </tr>\n",
       "    <tr>\n",
       "      <td>max</td>\n",
       "      <td>1.239497e+07</td>\n",
       "      <td>535.000000</td>\n",
       "      <td>5.000000</td>\n",
       "      <td>11790.000000</td>\n",
       "      <td>72224.000000</td>\n",
       "      <td>1.000000</td>\n",
       "      <td>1.000000</td>\n",
       "      <td>10300.000000</td>\n",
       "      <td>11790.000000</td>\n",
       "      <td>100.000000</td>\n",
       "      <td>11.400000</td>\n",
       "      <td>1000.000000</td>\n",
       "      <td>3000.000000</td>\n",
       "      <td>5.000000</td>\n",
       "      <td>400.000000</td>\n",
       "    </tr>\n",
       "  </tbody>\n",
       "</table>\n",
       "</div>"
      ],
      "text/plain": [
       "                 id      Review        Star         Value       brandId  \\\n",
       "count  6.420000e+02  642.000000  642.000000    642.000000    642.000000   \n",
       "mean   7.835927e+06   32.908100    3.819315   2210.987539  25560.778816   \n",
       "std    2.499043e+06   64.158267    0.960240   1451.388317  13756.815222   \n",
       "min    2.171393e+06    0.000000    0.000000      0.000000    599.000000   \n",
       "25%    5.824747e+06    5.000000    3.000000   1205.250000  16102.000000   \n",
       "50%    8.123429e+06   11.000000    4.000000   1802.000000  20577.000000   \n",
       "75%    1.002333e+07   31.000000    4.000000   2788.750000  34103.000000   \n",
       "max    1.239497e+07  535.000000    5.000000  11790.000000  72224.000000   \n",
       "\n",
       "        isSoldOut  lowQuantity   ordersCount         price  qualityRate  \\\n",
       "count  642.000000   642.000000    642.000000    642.000000   642.000000   \n",
       "mean     0.004673     0.073209    280.514019   2783.130841    97.364486   \n",
       "std      0.068252     0.260682    712.203553   1831.338995     8.153051   \n",
       "min      0.000000     0.000000     20.000000      0.000000     0.000000   \n",
       "25%      0.000000     0.000000     40.000000   1547.750000    97.000000   \n",
       "50%      0.000000     0.000000     90.000000   2254.500000   100.000000   \n",
       "75%      0.000000     0.000000    200.000000   3490.000000   100.000000   \n",
       "max      1.000000     1.000000  10300.000000  11790.000000   100.000000   \n",
       "\n",
       "       Вес с упаковкой (кг)  Длина кабеля  Мощность устройства  Объем чайника  \\\n",
       "count            637.000000    625.000000           634.000000     641.000000   \n",
       "mean               1.363077     72.977920          1994.779180       1.668019   \n",
       "std                0.665768     77.105167           391.228811       0.339104   \n",
       "min                0.180000      0.600000           500.000000       0.500000   \n",
       "25%                1.050000     63.000000          1800.000000       1.700000   \n",
       "50%                1.300000     70.000000          2200.000000       1.700000   \n",
       "75%                1.500000     75.000000          2200.000000       1.800000   \n",
       "max               11.400000   1000.000000          3000.000000       5.000000   \n",
       "\n",
       "        sale_june  \n",
       "count  642.000000  \n",
       "mean    14.725857  \n",
       "std     40.779031  \n",
       "min      0.000000  \n",
       "25%      0.000000  \n",
       "50%      0.000000  \n",
       "75%     10.000000  \n",
       "max    400.000000  "
      ]
     },
     "execution_count": 4,
     "metadata": {},
     "output_type": "execute_result"
    }
   ],
   "source": [
    "df.describe() #общие статистики"
   ]
  },
  {
   "cell_type": "code",
   "execution_count": 5,
   "metadata": {},
   "outputs": [
    {
     "data": {
      "image/png": "[encoded data removed]",
      "text/plain": [
       "<Figure size 1440x288 with 1 Axes>"
      ]
     },
     "metadata": {
      "needs_background": "light"
     },
     "output_type": "display_data"
    }
   ],
   "source": [
    "df['Review'].hist(bins=30, figsize=(20,4)); # как распределено количество отзывов"
   ]
  },
  {
   "cell_type": "code",
   "execution_count": 6,
   "metadata": {},
   "outputs": [
    {
     "data": {
      "text/plain": [
       "329"
      ]
     },
     "execution_count": 6,
     "metadata": {},
     "output_type": "execute_result"
    }
   ],
   "source": [
    "df[df['Review']>10]['sale_june'].count()"
   ]
  },
  {
   "cell_type": "markdown",
   "metadata": {},
   "source": [
    "Попробуем предсказать будет ли у модели больше 10 отзывов или нет. В этмо случае у нас получается сбалансированный набор данных. Ниже выведем список столбцов и отберем те, которые будем использовать для классификатора."
   ]
  },
  {
   "cell_type": "code",
   "execution_count": 7,
   "metadata": {},
   "outputs": [
    {
     "data": {
      "text/plain": [
       "Index(['id', 'Review', 'Star', 'Value', 'brandId', 'brandName', 'goodsName',\n",
       "       'isSoldOut', 'link', 'lowQuantity', 'ordersCount', 'price',\n",
       "       'qualityRate', 'Вес с упаковкой (кг)', 'Длина кабеля',\n",
       "       'Количество температурных режимов', 'Материал корпуса', 'Модель',\n",
       "       'Мощность устройства', 'Объем чайника', 'Страна бренда',\n",
       "       'Страна производитель', 'Цвет', 'sale_june'],\n",
       "      dtype='object')"
      ]
     },
     "execution_count": 7,
     "metadata": {},
     "output_type": "execute_result"
    }
   ],
   "source": [
    "df.columns # список столбцов нашего датасета "
   ]
  },
  {
   "cell_type": "code",
   "execution_count": 47,
   "metadata": {},
   "outputs": [],
   "source": [
    "col=['Star', 'Value', 'brandId', 'price','ordersCount', \n",
    "       'qualityRate', 'Вес с упаковкой (кг)', 'Длина кабеля',\n",
    "       'Количество температурных режимов', 'Материал корпуса', 'Модель',\n",
    "       'Мощность устройства', 'Объем чайника', 'Страна бренда',\n",
    "       'Страна производитель', 'Цвет'] # !!!!! Укажите здесь названия столбцов своего датасета!\n",
    "\n",
    "# код ниже преобразует категорийные данные в переменные и заполняет пропуски наиболее вероятным значением\n",
    "X=pd.DataFrame()\n",
    "for i in col:\n",
    "    if df[i].dtype.name != 'object':\n",
    "        X[i]=df[i].copy()\n",
    "        X.loc[X[i].isna(), i]=X[i].median()\n",
    "    else:\n",
    "        X[i]=pd.factorize(df[i])[0]"
   ]
  },
  {
   "cell_type": "code",
   "execution_count": 48,
   "metadata": {},
   "outputs": [
    {
     "data": {
      "text/html": [
       "<div>\n",
       "<style scoped>\n",
       "    .dataframe tbody tr th:only-of-type {\n",
       "        vertical-align: middle;\n",
       "    }\n",
       "\n",
       "    .dataframe tbody tr th {\n",
       "        vertical-align: top;\n",
       "    }\n",
       "\n",
       "    .dataframe thead th {\n",
       "        text-align: right;\n",
       "    }\n",
       "</style>\n",
       "<table border=\"1\" class=\"dataframe\">\n",
       "  <thead>\n",
       "    <tr style=\"text-align: right;\">\n",
       "      <th></th>\n",
       "      <th>Star</th>\n",
       "      <th>Value</th>\n",
       "      <th>brandId</th>\n",
       "      <th>price</th>\n",
       "      <th>ordersCount</th>\n",
       "      <th>qualityRate</th>\n",
       "      <th>Вес с упаковкой (кг)</th>\n",
       "      <th>Длина кабеля</th>\n",
       "      <th>Количество температурных режимов</th>\n",
       "      <th>Материал корпуса</th>\n",
       "      <th>Модель</th>\n",
       "      <th>Мощность устройства</th>\n",
       "      <th>Объем чайника</th>\n",
       "      <th>Страна бренда</th>\n",
       "      <th>Страна производитель</th>\n",
       "      <th>Цвет</th>\n",
       "    </tr>\n",
       "  </thead>\n",
       "  <tbody>\n",
       "    <tr>\n",
       "      <td>497</td>\n",
       "      <td>5.0</td>\n",
       "      <td>2790.0</td>\n",
       "      <td>50304.0</td>\n",
       "      <td>2790.0</td>\n",
       "      <td>30.0</td>\n",
       "      <td>100.0</td>\n",
       "      <td>1.53</td>\n",
       "      <td>75.0</td>\n",
       "      <td>0</td>\n",
       "      <td>-1</td>\n",
       "      <td>401</td>\n",
       "      <td>2200.0</td>\n",
       "      <td>1.7</td>\n",
       "      <td>5</td>\n",
       "      <td>0</td>\n",
       "      <td>1</td>\n",
       "    </tr>\n",
       "    <tr>\n",
       "      <td>64</td>\n",
       "      <td>3.0</td>\n",
       "      <td>1592.0</td>\n",
       "      <td>3217.0</td>\n",
       "      <td>1990.0</td>\n",
       "      <td>90.0</td>\n",
       "      <td>85.0</td>\n",
       "      <td>1.50</td>\n",
       "      <td>100.0</td>\n",
       "      <td>0</td>\n",
       "      <td>2</td>\n",
       "      <td>56</td>\n",
       "      <td>1850.0</td>\n",
       "      <td>1.7</td>\n",
       "      <td>2</td>\n",
       "      <td>0</td>\n",
       "      <td>6</td>\n",
       "    </tr>\n",
       "    <tr>\n",
       "      <td>470</td>\n",
       "      <td>4.0</td>\n",
       "      <td>2509.0</td>\n",
       "      <td>25258.0</td>\n",
       "      <td>3302.0</td>\n",
       "      <td>100.0</td>\n",
       "      <td>97.0</td>\n",
       "      <td>1.71</td>\n",
       "      <td>69.0</td>\n",
       "      <td>4</td>\n",
       "      <td>5</td>\n",
       "      <td>379</td>\n",
       "      <td>2200.0</td>\n",
       "      <td>1.7</td>\n",
       "      <td>1</td>\n",
       "      <td>0</td>\n",
       "      <td>2</td>\n",
       "    </tr>\n",
       "  </tbody>\n",
       "</table>\n",
       "</div>"
      ],
      "text/plain": [
       "     Star   Value  brandId   price  ordersCount  qualityRate  \\\n",
       "497   5.0  2790.0  50304.0  2790.0         30.0        100.0   \n",
       "64    3.0  1592.0   3217.0  1990.0         90.0         85.0   \n",
       "470   4.0  2509.0  25258.0  3302.0        100.0         97.0   \n",
       "\n",
       "     Вес с упаковкой (кг)  Длина кабеля  Количество температурных режимов  \\\n",
       "497                  1.53          75.0                                 0   \n",
       "64                   1.50         100.0                                 0   \n",
       "470                  1.71          69.0                                 4   \n",
       "\n",
       "     Материал корпуса  Модель  Мощность устройства  Объем чайника  \\\n",
       "497                -1     401               2200.0            1.7   \n",
       "64                  2      56               1850.0            1.7   \n",
       "470                 5     379               2200.0            1.7   \n",
       "\n",
       "     Страна бренда  Страна производитель  Цвет  \n",
       "497              5                     0     1  \n",
       "64               2                     0     6  \n",
       "470              1                     0     2  "
      ]
     },
     "execution_count": 48,
     "metadata": {},
     "output_type": "execute_result"
    }
   ],
   "source": [
    "# результат, подготовленные данные\n",
    "X.sample(3)"
   ]
  },
  {
   "cell_type": "code",
   "execution_count": 49,
   "metadata": {},
   "outputs": [],
   "source": [
    "# Y будет равен нулю если отзывов 10 и меньше, и единице если больше 10\n",
    "Y=df['Review'].apply(lambda x: 1 if x>10 else 0).values"
   ]
  },
  {
   "cell_type": "code",
   "execution_count": 50,
   "metadata": {},
   "outputs": [],
   "source": [
    "#разделим набор на тренировочный и тестовый\n",
    "X_train, X_test, y_train, y_test = train_test_split(X, Y, test_size=0.2, random_state=42)"
   ]
  },
  {
   "cell_type": "code",
   "execution_count": 51,
   "metadata": {},
   "outputs": [
    {
     "data": {
      "text/plain": [
       "RandomForestClassifier(bootstrap=True, class_weight=None, criterion='gini',\n",
       "                       max_depth=None, max_features='auto', max_leaf_nodes=None,\n",
       "                       min_impurity_decrease=0.0, min_impurity_split=None,\n",
       "                       min_samples_leaf=1, min_samples_split=2,\n",
       "                       min_weight_fraction_leaf=0.0, n_estimators=100,\n",
       "                       n_jobs=None, oob_score=False, random_state=None,\n",
       "                       verbose=0, warm_start=False)"
      ]
     },
     "execution_count": 51,
     "metadata": {},
     "output_type": "execute_result"
    }
   ],
   "source": [
    "# создаем и тренируем модель, отдельно можно провести подбор параметров для повышения точности\n",
    "model = RandomForestClassifier(n_estimators=100)\n",
    "model.fit(X_train, y_train)"
   ]
  },
  {
   "cell_type": "code",
   "execution_count": 52,
   "metadata": {},
   "outputs": [
    {
     "name": "stdout",
     "output_type": "stream",
     "text": [
      "Значимость признака:\n"
     ]
    },
    {
     "data": {
      "text/plain": [
       "[[0.3807, 'ordersCount'],\n",
       " [0.0951, 'Модель'],\n",
       " [0.0645, 'Star'],\n",
       " [0.06, 'brandId'],\n",
       " [0.0542, 'Страна бренда'],\n",
       " [0.0491, 'price'],\n",
       " [0.048, 'Цвет'],\n",
       " [0.0474, 'Value'],\n",
       " [0.0439, 'Вес с упаковкой (кг)'],\n",
       " [0.0372, 'Длина кабеля'],\n",
       " [0.032, 'qualityRate'],\n",
       " [0.0252, 'Мощность устройства'],\n",
       " [0.0233, 'Материал корпуса'],\n",
       " [0.0196, 'Объем чайника'],\n",
       " [0.0177, 'Количество температурных режимов'],\n",
       " [0.0021, 'Страна производитель']]"
      ]
     },
     "execution_count": 52,
     "metadata": {},
     "output_type": "execute_result"
    }
   ],
   "source": [
    "importances = model.feature_importances_\n",
    "indices = np.argsort(importances)[::-1]\n",
    "\n",
    "ar_f=[]\n",
    "for f, idx in enumerate(indices):\n",
    "    ar_f.append([round(importances[idx],4), col[idx]])\n",
    "print(\"Значимость признака:\")\n",
    "ar_f.sort(reverse=True)\n",
    "ar_f"
   ]
  },
  {
   "cell_type": "code",
   "execution_count": 53,
   "metadata": {},
   "outputs": [
    {
     "data": {
      "image/png": "[encoded data removed]",
      "text/plain": [
       "<Figure size 576x576 with 1 Axes>"
      ]
     },
     "metadata": {},
     "output_type": "display_data"
    }
   ],
   "source": [
    "#удобнее отобразить на столбчатой диаграмме\n",
    "d_first = len(col)\n",
    "plt.figure(figsize=(8, 8))\n",
    "plt.title(\"Значимость признака\")\n",
    "plt.bar(range(d_first), importances[indices[:d_first]], align='center')\n",
    "plt.xticks(range(d_first), np.array(col)[indices[:d_first]], rotation=90)\n",
    "plt.xlim([-1, d_first]);"
   ]
  },
  {
   "cell_type": "code",
   "execution_count": 54,
   "metadata": {},
   "outputs": [
    {
     "data": {
      "text/plain": [
       "array([0, 1, 0, 0, 1, 1, 1, 0, 1, 1, 1, 1, 0, 1, 1, 0, 1, 0, 1, 1, 0, 0,\n",
       "       1, 1, 0, 0, 0, 1, 1, 1, 0, 1, 1, 0, 0, 0, 1, 1, 1, 1, 1, 0, 0, 1,\n",
       "       1, 1, 0, 1, 0, 1, 0, 0, 1, 0, 0, 1, 0, 1, 1, 0, 1, 1, 0, 0, 0, 0,\n",
       "       1, 0, 0, 0, 0, 1, 0, 1, 0, 0, 1, 0, 1, 1, 0, 1, 0, 0, 1, 0, 1, 0,\n",
       "       0, 1, 1, 0, 1, 1, 0, 0, 1, 0, 1, 0, 1, 1, 1, 1, 1, 1, 0, 1, 1, 0,\n",
       "       1, 0, 1, 1, 0, 0, 0, 0, 1, 0, 0, 0, 1, 1, 1, 1, 1, 0, 1])"
      ]
     },
     "execution_count": 54,
     "metadata": {},
     "output_type": "execute_result"
    }
   ],
   "source": [
    "# как выглядит результат предсказания для тестовой выборки\n",
    "model.predict(X_test)"
   ]
  },
  {
   "cell_type": "code",
   "execution_count": 55,
   "metadata": {},
   "outputs": [
    {
     "data": {
      "text/plain": [
       "array([1, 1, 0, 1, 1, 1, 1, 0, 1, 1, 1, 1, 0, 1, 1, 0, 1, 0, 1, 1, 0, 0,\n",
       "       1, 1, 0, 1, 0, 1, 1, 0, 0, 0, 0, 0, 0, 0, 1, 1, 1, 1, 0, 0, 0, 1,\n",
       "       1, 1, 0, 1, 0, 1, 0, 0, 1, 0, 0, 1, 0, 1, 1, 0, 0, 1, 1, 0, 0, 0,\n",
       "       1, 0, 0, 0, 0, 1, 1, 1, 0, 1, 1, 0, 1, 1, 0, 1, 0, 1, 1, 0, 1, 0,\n",
       "       0, 1, 1, 0, 1, 0, 1, 0, 1, 0, 0, 0, 1, 1, 1, 1, 0, 0, 0, 1, 1, 0,\n",
       "       1, 0, 1, 1, 0, 0, 1, 0, 1, 0, 0, 0, 1, 1, 1, 1, 0, 0, 1])"
      ]
     },
     "execution_count": 55,
     "metadata": {},
     "output_type": "execute_result"
    }
   ],
   "source": [
    "# как выглядядт результаты тестового набора\n",
    "y_test"
   ]
  },
  {
   "cell_type": "code",
   "execution_count": 56,
   "metadata": {},
   "outputs": [
    {
     "name": "stdout",
     "output_type": "stream",
     "text": [
      "Accuracy: 0.8527131782945736\n"
     ]
    }
   ],
   "source": [
    "from sklearn import metrics\n",
    "# метрика, насколько точно мы предсказываем правильные значения как для 0, так и 1\n",
    "print(\"Accuracy:\",metrics.accuracy_score(y_test, model.predict(X_test)))"
   ]
  },
  {
   "cell_type": "code",
   "execution_count": 57,
   "metadata": {},
   "outputs": [
    {
     "data": {
      "text/plain": [
       "array([[51, 10],\n",
       "       [ 9, 59]])"
      ]
     },
     "execution_count": 57,
     "metadata": {},
     "output_type": "execute_result"
    }
   ],
   "source": [
    "# матрица количества правильно и ошибочно угаданных классов\n",
    "from sklearn.metrics import confusion_matrix\n",
    "confusion_matrix(y_test, model.predict(X_test))"
   ]
  },
  {
   "cell_type": "code",
   "execution_count": 58,
   "metadata": {},
   "outputs": [
    {
     "data": {
      "image/png": "[encoded data removed]",
      "text/plain": [
       "<Figure size 1152x504 with 2 Axes>"
      ]
     },
     "metadata": {},
     "output_type": "display_data"
    }
   ],
   "source": [
    "# так же матрица в процентах и более изящном виде\n",
    "matrix = confusion_matrix(y_test, model.predict(X_test))\n",
    "matrix = matrix.astype('float') / matrix.sum(axis=1)[:, np.newaxis]\n",
    "\n",
    "# Build the plot\n",
    "plt.figure(figsize=(16,7))\n",
    "sns.set(font_scale=1.4)\n",
    "sns.heatmap(matrix, annot=True, annot_kws={'size':10},\n",
    "            cmap=plt.cm.Greens, linewidths=0.2)\n",
    "\n",
    "# Add labels to the plot\n",
    "class_names = ['<10', '>10']                 # !!!!!! указать названия классов!\n",
    "tick_marks = np.arange(len(class_names))\n",
    "tick_marks2 = tick_marks + 0.5\n",
    "plt.xticks(tick_marks, class_names, rotation=25)\n",
    "plt.yticks(tick_marks2, class_names, rotation=0)\n",
    "plt.xlabel('Предсказанные классы')\n",
    "plt.ylabel('Истинные классы')\n",
    "plt.title('Confusion Matrix for Random Forest Model')\n",
    "plt.show()"
   ]
  },
  {
   "cell_type": "code",
   "execution_count": 59,
   "metadata": {},
   "outputs": [
    {
     "name": "stdout",
     "output_type": "stream",
     "text": [
      "              precision    recall  f1-score   support\n",
      "\n",
      "           0       0.85      0.84      0.84        61\n",
      "           1       0.86      0.87      0.86        68\n",
      "\n",
      "    accuracy                           0.85       129\n",
      "   macro avg       0.85      0.85      0.85       129\n",
      "weighted avg       0.85      0.85      0.85       129\n",
      "\n"
     ]
    }
   ],
   "source": [
    "# Еще базовые метрики оценки точности модели\n",
    "from sklearn.metrics import classification_report\n",
    "print(classification_report(y_test, model.predict(X_test)))"
   ]
  },
  {
   "cell_type": "code",
   "execution_count": null,
   "metadata": {},
   "outputs": [],
   "source": []
  }
 ],
 "metadata": {
  "kernelspec": {
   "display_name": "Python 3",
   "language": "python",
   "name": "python3"
  },
  "language_info": {
   "codemirror_mode": {
    "name": "ipython",
    "version": 3
   },
   "file_extension": ".py",
   "mimetype": "text/x-python",
   "name": "python",
   "nbconvert_exporter": "python",
   "pygments_lexer": "ipython3",
   "version": "3.6.7"
  }
 },
 "nbformat": 4,
 "nbformat_minor": 2
}
